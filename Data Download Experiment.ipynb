{
 "cells": [
  {
   "cell_type": "code",
   "execution_count": 1,
   "id": "e48a08b5",
   "metadata": {},
   "outputs": [],
   "source": [
    "import os\n",
    "import requests\n",
    "import json\n",
    "import itertools"
   ]
  },
  {
   "cell_type": "code",
   "execution_count": 2,
   "id": "10f4fcbb",
   "metadata": {},
   "outputs": [],
   "source": [
    "#Every request begins with the server's URL\n",
    "SERVER = 'http://data.neonscience.org/api/v0/'"
   ]
  },
  {
   "cell_type": "code",
   "execution_count": 4,
   "id": "b1fdb28b",
   "metadata": {},
   "outputs": [],
   "source": [
    "SITE_CODE = 'UNDE'"
   ]
  },
  {
   "cell_type": "code",
   "execution_count": 5,
   "id": "f6d6e164",
   "metadata": {},
   "outputs": [],
   "source": [
    "# plant presence and percent cover\n",
    "PRODUCTCODE = 'DP1.10058.001'"
   ]
  },
  {
   "cell_type": "code",
   "execution_count": 8,
   "id": "10f52989",
   "metadata": {},
   "outputs": [],
   "source": [
    "url = SERVER+'sites/'+SITE_CODE"
   ]
  },
  {
   "cell_type": "code",
   "execution_count": 9,
   "id": "e2ec975f",
   "metadata": {},
   "outputs": [],
   "source": [
    "#Request the url\n",
    "site_request = requests.get(url)\n",
    "\n",
    "#Convert the request to Python JSON object\n",
    "site_json = site_request.json()"
   ]
  },
  {
   "cell_type": "markdown",
   "id": "8a45f71b",
   "metadata": {},
   "source": [
    "## get latest available month, and print it"
   ]
  },
  {
   "cell_type": "code",
   "execution_count": 50,
   "id": "1f4254a0",
   "metadata": {},
   "outputs": [
    {
     "data": {
      "text/plain": [
       "['2021-06', '2021-07', '2022-06', '2022-07', '2022-08']"
      ]
     },
     "execution_count": 50,
     "metadata": {},
     "output_type": "execute_result"
    }
   ],
   "source": [
    "months = []\n",
    "\n",
    "for product in site_json['data']['dataProducts']: \n",
    "    #if a list item's 'dataProductCode' dict element equals the product code string\n",
    "    if(product['dataProductCode'] == PRODUCTCODE): \n",
    "        #print the available months\n",
    "        for month in product['availableMonths']:\n",
    "            months.append(month)\n",
    "\n",
    "months.sort()\n",
    "\n",
    "months[-5:]"
   ]
  },
  {
   "cell_type": "code",
   "execution_count": 51,
   "id": "43134d7d",
   "metadata": {},
   "outputs": [
    {
     "data": {
      "text/plain": [
       "'2022-08'"
      ]
     },
     "execution_count": 51,
     "metadata": {},
     "output_type": "execute_result"
    }
   ],
   "source": [
    "month_idx = -1\n",
    "latest_month = months[-1]\n",
    "\n",
    "latest_month"
   ]
  },
  {
   "cell_type": "markdown",
   "id": "19d29c8a",
   "metadata": {},
   "source": [
    "### get list of files"
   ]
  },
  {
   "cell_type": "code",
   "execution_count": 52,
   "id": "963eb72d",
   "metadata": {},
   "outputs": [],
   "source": [
    "data_request = requests.get(SERVER+'data/'+PRODUCTCODE+'/'+SITE_CODE+'/'+latest_month)\n",
    "data_json = data_request.json()"
   ]
  },
  {
   "cell_type": "code",
   "execution_count": 53,
   "id": "4b8a9f75",
   "metadata": {
    "scrolled": true
   },
   "outputs": [
    {
     "name": "stdout",
     "output_type": "stream",
     "text": [
      "name :\t NEON.D05.UNDE.DP1.10058.001.div_1m2Data.2022-08.expanded.20230410T163816Z.csv\n",
      "size :\t 38694\n",
      "md5 :\t 6371282b2c603abdafc108ed0a88be90\n",
      "crc32 :\t None\n",
      "crc32c :\t None\n",
      "url :\t https://storage.googleapis.com/neon-publication/NEON.DOM.SITE.DP1.10058.001/UNDE/20220801T000000--20220901T000000/expanded/NEON.D05.UNDE.DP1.10058.001.div_1m2Data.2022-08.expanded.20230410T163816Z.csv\n",
      "name :\t NEON.D05.UNDE.DP1.10058.001.div_1m2Data.2022-08.basic.20230410T163816Z.csv\n",
      "size :\t 38694\n",
      "md5 :\t 6371282b2c603abdafc108ed0a88be90\n",
      "crc32 :\t None\n",
      "crc32c :\t None\n",
      "url :\t https://storage.googleapis.com/neon-publication/NEON.DOM.SITE.DP1.10058.001/UNDE/20220801T000000--20220901T000000/basic/NEON.D05.UNDE.DP1.10058.001.div_1m2Data.2022-08.basic.20230410T163816Z.csv\n"
     ]
    },
    {
     "data": {
      "text/plain": [
       "'https://storage.googleapis.com/neon-publication/NEON.DOM.SITE.DP1.10058.001/UNDE/20220801T000000--20220901T000000/basic/NEON.D05.UNDE.DP1.10058.001.div_1m2Data.2022-08.basic.20230410T163816Z.csv'"
      ]
     },
     "execution_count": 53,
     "metadata": {},
     "output_type": "execute_result"
    }
   ],
   "source": [
    "# filter through files and get the URL for the one we want (1m^2)\n",
    "url = None\n",
    "name = None\n",
    "\n",
    "for file in data_json['data']['files']:\n",
    "    if '1m2' in file['name']:\n",
    "        for key in file.keys():\n",
    "            print(key,':\\t', file[key])\n",
    "            \n",
    "        url = file['url']\n",
    "        name = file['name']\n",
    "\n",
    "url"
   ]
  },
  {
   "cell_type": "markdown",
   "id": "4e5fbe69",
   "metadata": {},
   "source": [
    "## download data from URL"
   ]
  },
  {
   "cell_type": "code",
   "execution_count": 54,
   "id": "9b9af80e",
   "metadata": {},
   "outputs": [
    {
     "data": {
      "text/plain": [
       "('data/NEON.D05.UNDE.DP1.10058.001.div_1m2Data.2022-08.basic.20230410T163816Z.csv',\n",
       " <http.client.HTTPMessage at 0x1f0f3375430>)"
      ]
     },
     "execution_count": 54,
     "metadata": {},
     "output_type": "execute_result"
    }
   ],
   "source": [
    "import urllib.request\n",
    "urllib.request.urlretrieve(url, 'data/' + name)"
   ]
  },
  {
   "cell_type": "markdown",
   "id": "e3dc1ce0",
   "metadata": {},
   "source": [
    "## import CSV"
   ]
  },
  {
   "cell_type": "code",
   "execution_count": 55,
   "id": "ac7f170b",
   "metadata": {},
   "outputs": [
    {
     "data": {
      "text/html": [
       "<div>\n",
       "<style scoped>\n",
       "    .dataframe tbody tr th:only-of-type {\n",
       "        vertical-align: middle;\n",
       "    }\n",
       "\n",
       "    .dataframe tbody tr th {\n",
       "        vertical-align: top;\n",
       "    }\n",
       "\n",
       "    .dataframe thead th {\n",
       "        text-align: right;\n",
       "    }\n",
       "</style>\n",
       "<table border=\"1\" class=\"dataframe\">\n",
       "  <thead>\n",
       "    <tr style=\"text-align: right;\">\n",
       "      <th></th>\n",
       "      <th>uid</th>\n",
       "      <th>namedLocation</th>\n",
       "      <th>domainID</th>\n",
       "      <th>siteID</th>\n",
       "      <th>decimalLatitude</th>\n",
       "      <th>decimalLongitude</th>\n",
       "      <th>geodeticDatum</th>\n",
       "      <th>coordinateUncertainty</th>\n",
       "      <th>elevation</th>\n",
       "      <th>elevationUncertainty</th>\n",
       "      <th>...</th>\n",
       "      <th>otherVariables</th>\n",
       "      <th>percentCover</th>\n",
       "      <th>heightPlantOver300cm</th>\n",
       "      <th>heightPlantSpecies</th>\n",
       "      <th>remarks</th>\n",
       "      <th>measuredBy</th>\n",
       "      <th>recordedBy</th>\n",
       "      <th>samplingImpractical</th>\n",
       "      <th>samplingImpracticalRemarks</th>\n",
       "      <th>biophysicalCriteria</th>\n",
       "    </tr>\n",
       "  </thead>\n",
       "  <tbody>\n",
       "    <tr>\n",
       "      <th>0</th>\n",
       "      <td>4740265f-e549-4df5-b4dd-9d6510e1e8b1</td>\n",
       "      <td>UNDE_022.basePlot.div</td>\n",
       "      <td>D05</td>\n",
       "      <td>UNDE</td>\n",
       "      <td>46.230668</td>\n",
       "      <td>-89.569550</td>\n",
       "      <td>WGS84</td>\n",
       "      <td>20.10</td>\n",
       "      <td>508.9</td>\n",
       "      <td>0.1</td>\n",
       "      <td>...</td>\n",
       "      <td>NaN</td>\n",
       "      <td>NaN</td>\n",
       "      <td>NaN</td>\n",
       "      <td>NaN</td>\n",
       "      <td>Sampling impractical record</td>\n",
       "      <td>0000-0002-8883-3677</td>\n",
       "      <td>NaN</td>\n",
       "      <td>logistical</td>\n",
       "      <td>Resource Limitations</td>\n",
       "      <td>OK - no known exceptions</td>\n",
       "    </tr>\n",
       "    <tr>\n",
       "      <th>1</th>\n",
       "      <td>6b3aee6d-99ef-44b0-ad9f-b7d0f9170394</td>\n",
       "      <td>UNDE_036.basePlot.div</td>\n",
       "      <td>D05</td>\n",
       "      <td>UNDE</td>\n",
       "      <td>46.253708</td>\n",
       "      <td>-89.516869</td>\n",
       "      <td>WGS84</td>\n",
       "      <td>20.16</td>\n",
       "      <td>525.0</td>\n",
       "      <td>0.2</td>\n",
       "      <td>...</td>\n",
       "      <td>NaN</td>\n",
       "      <td>NaN</td>\n",
       "      <td>NaN</td>\n",
       "      <td>NaN</td>\n",
       "      <td>Sampling impractical record</td>\n",
       "      <td>0000-0002-8883-3677</td>\n",
       "      <td>NaN</td>\n",
       "      <td>logistical</td>\n",
       "      <td>Resource Limitations</td>\n",
       "      <td>OK - no known exceptions</td>\n",
       "    </tr>\n",
       "    <tr>\n",
       "      <th>2</th>\n",
       "      <td>459cd4d6-48cf-4236-b706-c3e1d8e0832b</td>\n",
       "      <td>UNDE_016.basePlot.div</td>\n",
       "      <td>D05</td>\n",
       "      <td>UNDE</td>\n",
       "      <td>46.245970</td>\n",
       "      <td>-89.525485</td>\n",
       "      <td>WGS84</td>\n",
       "      <td>20.14</td>\n",
       "      <td>505.1</td>\n",
       "      <td>0.2</td>\n",
       "      <td>...</td>\n",
       "      <td>NaN</td>\n",
       "      <td>NaN</td>\n",
       "      <td>NaN</td>\n",
       "      <td>NaN</td>\n",
       "      <td>Sampling impractical record</td>\n",
       "      <td>0000-0002-8883-3677</td>\n",
       "      <td>NaN</td>\n",
       "      <td>logistical</td>\n",
       "      <td>Resource Limitations</td>\n",
       "      <td>OK - no known exceptions</td>\n",
       "    </tr>\n",
       "    <tr>\n",
       "      <th>3</th>\n",
       "      <td>96a4f65b-9063-49f6-81d5-84670e2d76e3</td>\n",
       "      <td>UNDE_014.basePlot.div</td>\n",
       "      <td>D05</td>\n",
       "      <td>UNDE</td>\n",
       "      <td>46.225960</td>\n",
       "      <td>-89.513299</td>\n",
       "      <td>WGS84</td>\n",
       "      <td>20.17</td>\n",
       "      <td>524.0</td>\n",
       "      <td>0.2</td>\n",
       "      <td>...</td>\n",
       "      <td>NaN</td>\n",
       "      <td>NaN</td>\n",
       "      <td>NaN</td>\n",
       "      <td>NaN</td>\n",
       "      <td>Sampling impractical record</td>\n",
       "      <td>0000-0002-8883-3677</td>\n",
       "      <td>NaN</td>\n",
       "      <td>logistical</td>\n",
       "      <td>Resource Limitations</td>\n",
       "      <td>OK - no known exceptions</td>\n",
       "    </tr>\n",
       "    <tr>\n",
       "      <th>4</th>\n",
       "      <td>0fa628ac-1f63-4d77-8794-b78793ded145</td>\n",
       "      <td>UNDE_029.basePlot.div</td>\n",
       "      <td>D05</td>\n",
       "      <td>UNDE</td>\n",
       "      <td>46.251554</td>\n",
       "      <td>-89.516809</td>\n",
       "      <td>WGS84</td>\n",
       "      <td>20.22</td>\n",
       "      <td>521.9</td>\n",
       "      <td>0.3</td>\n",
       "      <td>...</td>\n",
       "      <td>NaN</td>\n",
       "      <td>NaN</td>\n",
       "      <td>NaN</td>\n",
       "      <td>NaN</td>\n",
       "      <td>Sampling impractical record</td>\n",
       "      <td>0000-0002-8883-3677</td>\n",
       "      <td>NaN</td>\n",
       "      <td>logistical</td>\n",
       "      <td>Resource Limitations</td>\n",
       "      <td>OK - no known exceptions</td>\n",
       "    </tr>\n",
       "    <tr>\n",
       "      <th>...</th>\n",
       "      <td>...</td>\n",
       "      <td>...</td>\n",
       "      <td>...</td>\n",
       "      <td>...</td>\n",
       "      <td>...</td>\n",
       "      <td>...</td>\n",
       "      <td>...</td>\n",
       "      <td>...</td>\n",
       "      <td>...</td>\n",
       "      <td>...</td>\n",
       "      <td>...</td>\n",
       "      <td>...</td>\n",
       "      <td>...</td>\n",
       "      <td>...</td>\n",
       "      <td>...</td>\n",
       "      <td>...</td>\n",
       "      <td>...</td>\n",
       "      <td>...</td>\n",
       "      <td>...</td>\n",
       "      <td>...</td>\n",
       "      <td>...</td>\n",
       "    </tr>\n",
       "    <tr>\n",
       "      <th>103</th>\n",
       "      <td>4b52ed7d-476b-4915-b35a-9b377ed1faba</td>\n",
       "      <td>UNDE_018.basePlot.div</td>\n",
       "      <td>D05</td>\n",
       "      <td>UNDE</td>\n",
       "      <td>46.243048</td>\n",
       "      <td>-89.534710</td>\n",
       "      <td>WGS84</td>\n",
       "      <td>20.12</td>\n",
       "      <td>506.4</td>\n",
       "      <td>0.1</td>\n",
       "      <td>...</td>\n",
       "      <td>NaN</td>\n",
       "      <td>NaN</td>\n",
       "      <td>NaN</td>\n",
       "      <td>NaN</td>\n",
       "      <td>Sampling impractical record</td>\n",
       "      <td>0000-0002-8883-3677</td>\n",
       "      <td>NaN</td>\n",
       "      <td>logistical</td>\n",
       "      <td>Resource Limitations</td>\n",
       "      <td>OK - no known exceptions</td>\n",
       "    </tr>\n",
       "    <tr>\n",
       "      <th>104</th>\n",
       "      <td>5c23661f-bbe3-42f5-9b9e-fc2e72a33dcb</td>\n",
       "      <td>UNDE_035.basePlot.div</td>\n",
       "      <td>D05</td>\n",
       "      <td>UNDE</td>\n",
       "      <td>46.218532</td>\n",
       "      <td>-89.507910</td>\n",
       "      <td>WGS84</td>\n",
       "      <td>20.19</td>\n",
       "      <td>521.3</td>\n",
       "      <td>0.2</td>\n",
       "      <td>...</td>\n",
       "      <td>NaN</td>\n",
       "      <td>NaN</td>\n",
       "      <td>NaN</td>\n",
       "      <td>NaN</td>\n",
       "      <td>Sampling impractical record</td>\n",
       "      <td>0000-0002-8883-3677</td>\n",
       "      <td>NaN</td>\n",
       "      <td>logistical</td>\n",
       "      <td>Resource Limitations</td>\n",
       "      <td>OK - no known exceptions</td>\n",
       "    </tr>\n",
       "    <tr>\n",
       "      <th>105</th>\n",
       "      <td>c24e3f06-b5cd-4b0c-8ca3-56e35110ff14</td>\n",
       "      <td>UNDE_025.basePlot.div</td>\n",
       "      <td>D05</td>\n",
       "      <td>UNDE</td>\n",
       "      <td>46.234098</td>\n",
       "      <td>-89.573198</td>\n",
       "      <td>WGS84</td>\n",
       "      <td>20.10</td>\n",
       "      <td>508.9</td>\n",
       "      <td>0.1</td>\n",
       "      <td>...</td>\n",
       "      <td>NaN</td>\n",
       "      <td>NaN</td>\n",
       "      <td>NaN</td>\n",
       "      <td>NaN</td>\n",
       "      <td>Sampling impractical record</td>\n",
       "      <td>0000-0002-8883-3677</td>\n",
       "      <td>NaN</td>\n",
       "      <td>logistical</td>\n",
       "      <td>Resource Limitations</td>\n",
       "      <td>OK - no known exceptions</td>\n",
       "    </tr>\n",
       "    <tr>\n",
       "      <th>106</th>\n",
       "      <td>89a29e93-64a5-44e2-8134-bff55038c32e</td>\n",
       "      <td>UNDE_022.basePlot.div</td>\n",
       "      <td>D05</td>\n",
       "      <td>UNDE</td>\n",
       "      <td>46.230668</td>\n",
       "      <td>-89.569550</td>\n",
       "      <td>WGS84</td>\n",
       "      <td>20.10</td>\n",
       "      <td>508.9</td>\n",
       "      <td>0.1</td>\n",
       "      <td>...</td>\n",
       "      <td>NaN</td>\n",
       "      <td>NaN</td>\n",
       "      <td>NaN</td>\n",
       "      <td>NaN</td>\n",
       "      <td>Sampling impractical record</td>\n",
       "      <td>0000-0002-8883-3677</td>\n",
       "      <td>NaN</td>\n",
       "      <td>logistical</td>\n",
       "      <td>Resource Limitations</td>\n",
       "      <td>OK - no known exceptions</td>\n",
       "    </tr>\n",
       "    <tr>\n",
       "      <th>107</th>\n",
       "      <td>2e4889fc-3c2e-4a44-a0f2-ea37ec247e37</td>\n",
       "      <td>UNDE_023.basePlot.div</td>\n",
       "      <td>D05</td>\n",
       "      <td>UNDE</td>\n",
       "      <td>46.230008</td>\n",
       "      <td>-89.501807</td>\n",
       "      <td>WGS84</td>\n",
       "      <td>20.14</td>\n",
       "      <td>516.4</td>\n",
       "      <td>0.2</td>\n",
       "      <td>...</td>\n",
       "      <td>NaN</td>\n",
       "      <td>NaN</td>\n",
       "      <td>NaN</td>\n",
       "      <td>NaN</td>\n",
       "      <td>Sampling impractical record</td>\n",
       "      <td>0000-0002-8883-3677</td>\n",
       "      <td>NaN</td>\n",
       "      <td>logistical</td>\n",
       "      <td>Resource Limitations</td>\n",
       "      <td>OK - no known exceptions</td>\n",
       "    </tr>\n",
       "  </tbody>\n",
       "</table>\n",
       "<p>108 rows × 41 columns</p>\n",
       "</div>"
      ],
      "text/plain": [
       "                                      uid          namedLocation domainID  \\\n",
       "0    4740265f-e549-4df5-b4dd-9d6510e1e8b1  UNDE_022.basePlot.div      D05   \n",
       "1    6b3aee6d-99ef-44b0-ad9f-b7d0f9170394  UNDE_036.basePlot.div      D05   \n",
       "2    459cd4d6-48cf-4236-b706-c3e1d8e0832b  UNDE_016.basePlot.div      D05   \n",
       "3    96a4f65b-9063-49f6-81d5-84670e2d76e3  UNDE_014.basePlot.div      D05   \n",
       "4    0fa628ac-1f63-4d77-8794-b78793ded145  UNDE_029.basePlot.div      D05   \n",
       "..                                    ...                    ...      ...   \n",
       "103  4b52ed7d-476b-4915-b35a-9b377ed1faba  UNDE_018.basePlot.div      D05   \n",
       "104  5c23661f-bbe3-42f5-9b9e-fc2e72a33dcb  UNDE_035.basePlot.div      D05   \n",
       "105  c24e3f06-b5cd-4b0c-8ca3-56e35110ff14  UNDE_025.basePlot.div      D05   \n",
       "106  89a29e93-64a5-44e2-8134-bff55038c32e  UNDE_022.basePlot.div      D05   \n",
       "107  2e4889fc-3c2e-4a44-a0f2-ea37ec247e37  UNDE_023.basePlot.div      D05   \n",
       "\n",
       "    siteID  decimalLatitude  decimalLongitude geodeticDatum  \\\n",
       "0     UNDE        46.230668        -89.569550         WGS84   \n",
       "1     UNDE        46.253708        -89.516869         WGS84   \n",
       "2     UNDE        46.245970        -89.525485         WGS84   \n",
       "3     UNDE        46.225960        -89.513299         WGS84   \n",
       "4     UNDE        46.251554        -89.516809         WGS84   \n",
       "..     ...              ...               ...           ...   \n",
       "103   UNDE        46.243048        -89.534710         WGS84   \n",
       "104   UNDE        46.218532        -89.507910         WGS84   \n",
       "105   UNDE        46.234098        -89.573198         WGS84   \n",
       "106   UNDE        46.230668        -89.569550         WGS84   \n",
       "107   UNDE        46.230008        -89.501807         WGS84   \n",
       "\n",
       "     coordinateUncertainty  elevation  elevationUncertainty  ...  \\\n",
       "0                    20.10      508.9                   0.1  ...   \n",
       "1                    20.16      525.0                   0.2  ...   \n",
       "2                    20.14      505.1                   0.2  ...   \n",
       "3                    20.17      524.0                   0.2  ...   \n",
       "4                    20.22      521.9                   0.3  ...   \n",
       "..                     ...        ...                   ...  ...   \n",
       "103                  20.12      506.4                   0.1  ...   \n",
       "104                  20.19      521.3                   0.2  ...   \n",
       "105                  20.10      508.9                   0.1  ...   \n",
       "106                  20.10      508.9                   0.1  ...   \n",
       "107                  20.14      516.4                   0.2  ...   \n",
       "\n",
       "    otherVariables percentCover heightPlantOver300cm heightPlantSpecies  \\\n",
       "0              NaN          NaN                  NaN                NaN   \n",
       "1              NaN          NaN                  NaN                NaN   \n",
       "2              NaN          NaN                  NaN                NaN   \n",
       "3              NaN          NaN                  NaN                NaN   \n",
       "4              NaN          NaN                  NaN                NaN   \n",
       "..             ...          ...                  ...                ...   \n",
       "103            NaN          NaN                  NaN                NaN   \n",
       "104            NaN          NaN                  NaN                NaN   \n",
       "105            NaN          NaN                  NaN                NaN   \n",
       "106            NaN          NaN                  NaN                NaN   \n",
       "107            NaN          NaN                  NaN                NaN   \n",
       "\n",
       "                         remarks           measuredBy recordedBy  \\\n",
       "0    Sampling impractical record  0000-0002-8883-3677        NaN   \n",
       "1    Sampling impractical record  0000-0002-8883-3677        NaN   \n",
       "2    Sampling impractical record  0000-0002-8883-3677        NaN   \n",
       "3    Sampling impractical record  0000-0002-8883-3677        NaN   \n",
       "4    Sampling impractical record  0000-0002-8883-3677        NaN   \n",
       "..                           ...                  ...        ...   \n",
       "103  Sampling impractical record  0000-0002-8883-3677        NaN   \n",
       "104  Sampling impractical record  0000-0002-8883-3677        NaN   \n",
       "105  Sampling impractical record  0000-0002-8883-3677        NaN   \n",
       "106  Sampling impractical record  0000-0002-8883-3677        NaN   \n",
       "107  Sampling impractical record  0000-0002-8883-3677        NaN   \n",
       "\n",
       "    samplingImpractical  samplingImpracticalRemarks       biophysicalCriteria  \n",
       "0            logistical        Resource Limitations  OK - no known exceptions  \n",
       "1            logistical        Resource Limitations  OK - no known exceptions  \n",
       "2            logistical        Resource Limitations  OK - no known exceptions  \n",
       "3            logistical        Resource Limitations  OK - no known exceptions  \n",
       "4            logistical        Resource Limitations  OK - no known exceptions  \n",
       "..                  ...                         ...                       ...  \n",
       "103          logistical        Resource Limitations  OK - no known exceptions  \n",
       "104          logistical        Resource Limitations  OK - no known exceptions  \n",
       "105          logistical        Resource Limitations  OK - no known exceptions  \n",
       "106          logistical        Resource Limitations  OK - no known exceptions  \n",
       "107          logistical        Resource Limitations  OK - no known exceptions  \n",
       "\n",
       "[108 rows x 41 columns]"
      ]
     },
     "execution_count": 55,
     "metadata": {},
     "output_type": "execute_result"
    }
   ],
   "source": [
    "import pandas as pd\n",
    "\n",
    "df = pd.read_csv('data/' + name)\n",
    "\n",
    "df"
   ]
  },
  {
   "cell_type": "markdown",
   "id": "a018b800",
   "metadata": {},
   "source": [
    "### check to make sure data for family and percent cover is not missing"
   ]
  },
  {
   "cell_type": "code",
   "execution_count": 56,
   "id": "7eabfcf0",
   "metadata": {},
   "outputs": [],
   "source": [
    "# try an earlier month\n",
    "def redownload_data():\n",
    "    global month_idx\n",
    "    global df\n",
    "    global latest_month\n",
    "    \n",
    "    month_idx -= 1\n",
    "    latest_month = months[month_idx]\n",
    "    latest_month = months[month_idx]\n",
    "    data_request = requests.get(SERVER+'data/'+PRODUCTCODE+'/'+SITE_CODE+'/'+latest_month)\n",
    "    data_json = data_request.json()\n",
    "    \n",
    "    url = None\n",
    "    name = None\n",
    "\n",
    "    for file in data_json['data']['files']:\n",
    "        if '1m2' in file['name']:\n",
    "            for key in file.keys():\n",
    "                print(key,':\\t', file[key])\n",
    "\n",
    "            url = file['url']\n",
    "            name = file['name']\n",
    "    \n",
    "    urllib.request.urlretrieve(url, 'data/' + name)\n",
    "    \n",
    "    df = pd.read_csv('data/' + name)"
   ]
  },
  {
   "cell_type": "code",
   "execution_count": 57,
   "id": "a5e4c399",
   "metadata": {},
   "outputs": [
    {
     "name": "stdout",
     "output_type": "stream",
     "text": [
      "108 108\n",
      "name :\t NEON.D05.UNDE.DP1.10058.001.div_1m2Data.2022-07.expanded.20230313T204832Z.csv\n",
      "size :\t 196288\n",
      "md5 :\t 7c6f845216cbbfc99083a88b398c9258\n",
      "crc32 :\t None\n",
      "crc32c :\t None\n",
      "url :\t https://storage.googleapis.com/neon-publication/NEON.DOM.SITE.DP1.10058.001/UNDE/20220701T000000--20220801T000000/expanded/NEON.D05.UNDE.DP1.10058.001.div_1m2Data.2022-07.expanded.20230313T204832Z.csv\n",
      "name :\t NEON.D05.UNDE.DP1.10058.001.div_1m2Data.2022-07.basic.20230313T204832Z.csv\n",
      "size :\t 196288\n",
      "md5 :\t 7c6f845216cbbfc99083a88b398c9258\n",
      "crc32 :\t None\n",
      "crc32c :\t None\n",
      "url :\t https://storage.googleapis.com/neon-publication/NEON.DOM.SITE.DP1.10058.001/UNDE/20220701T000000--20220801T000000/basic/NEON.D05.UNDE.DP1.10058.001.div_1m2Data.2022-07.basic.20230313T204832Z.csv\n",
      "185 505\n"
     ]
    }
   ],
   "source": [
    "# redownload earlier data if more than half of family/percentcover data is Nan\n",
    "while True:\n",
    "    num_rows = df.shape[0]\n",
    "    num_nan = max(df['family'].isnull().sum(), df['percentCover'].isnull().sum())\n",
    "\n",
    "    print(num_nan, num_rows)\n",
    "    \n",
    "    if 2 * num_nan > num_rows:\n",
    "        # try an earlier month\n",
    "        redownload_data()\n",
    "    else:\n",
    "        break"
   ]
  },
  {
   "cell_type": "code",
   "execution_count": 58,
   "id": "72d0b6f7",
   "metadata": {},
   "outputs": [
    {
     "data": {
      "text/plain": [
       "'2022-07'"
      ]
     },
     "execution_count": 58,
     "metadata": {},
     "output_type": "execute_result"
    }
   ],
   "source": [
    "latest_month"
   ]
  },
  {
   "cell_type": "markdown",
   "id": "5ee1d3e1",
   "metadata": {},
   "source": [
    "## get average percent cover for each family"
   ]
  },
  {
   "cell_type": "code",
   "execution_count": 71,
   "id": "29f689bf",
   "metadata": {},
   "outputs": [
    {
     "data": {
      "text/plain": [
       "[('Caprifoliaceae', 4.428571428571429),\n",
       " ('Rosaceae', 1.28125),\n",
       " ('Liliaceae', 1.7647058823529411),\n",
       " ('Pyrolaceae', 1.1666666666666667),\n",
       " ('Ranunculaceae', 4.75),\n",
       " ('Oleaceae', 1.6875),\n",
       " ('Grossulariaceae', 8.0),\n",
       " ('Primulaceae', 1.5),\n",
       " ('Betulaceae', 31.333333333333332),\n",
       " ('Pinaceae', 3.625),\n",
       " ('Onagraceae', 0.6111111111111112),\n",
       " ('Orchidaceae', 0.5),\n",
       " ('Asteraceae', 1.9444444444444444),\n",
       " ('Salicaceae', 0.5),\n",
       " ('Aceraceae', 2.7941176470588234),\n",
       " ('Cyperaceae', 2.660377358490566),\n",
       " ('Cupressaceae', 0.5),\n",
       " ('Clusiaceae', 1.0),\n",
       " ('Monotropaceae', 0.5),\n",
       " ('Cornaceae', 4.625),\n",
       " ('Polygonaceae', 1.5),\n",
       " ('Osmundaceae', 34.5),\n",
       " ('Poaceae', 2.25),\n",
       " ('Rubiaceae', 0.8),\n",
       " ('Lamiaceae', 4.25),\n",
       " ('Violaceae', 2.0),\n",
       " ('Dryopteridaceae', 12.5),\n",
       " ('Thelypteridaceae', 13.6),\n",
       " ('Dennstaedtiaceae', 13.0),\n",
       " ('Scrophulariaceae', 0.5),\n",
       " ('Thymelaeaceae', 8.0),\n",
       " ('Oxalidaceae', 5.75),\n",
       " ('Araceae', 5.583333333333333),\n",
       " ('Lycopodiaceae', 3.0),\n",
       " ('Iridaceae', 0.5),\n",
       " ('Equisetaceae', 3.0),\n",
       " ('Droseraceae', 0.5),\n",
       " ('Ericaceae', 1.75),\n",
       " ('Sparganiaceae', 8.0),\n",
       " ('Apiaceae', 0.5),\n",
       " ('Saxifragaceae', 1.0),\n",
       " ('Balsaminaceae', 6.0),\n",
       " ('Brassicaceae', 0.5)]"
      ]
     },
     "execution_count": 71,
     "metadata": {},
     "output_type": "execute_result"
    }
   ],
   "source": [
    "import math\n",
    "\n",
    "avg_tracker = dict()\n",
    "\n",
    "def isnan(val):\n",
    "    return type(val) == float and math.isnan(val)\n",
    "\n",
    "for index, row in df.iterrows():\n",
    "    if isnan(row['family']) or isnan(row['percentCover']):\n",
    "        continue\n",
    "    \n",
    "    family = row['family']\n",
    "    percCover = row['percentCover']\n",
    "    \n",
    "    if family not in avg_tracker:\n",
    "        avg_tracker[family] = (0, 0)\n",
    "    \n",
    "    avg_tracker[family] = (avg_tracker[family][0] + percCover, avg_tracker[family][1] + 1)\n",
    "\n",
    "avgPercCover = []\n",
    "sumAvgPercCover = 0\n",
    "\n",
    "for key in avg_tracker:\n",
    "    avgPercCover.append((key, avg_tracker[key][0] / avg_tracker[key][1]))\n",
    "    sumAvgPercCover += avgPercCover[-1][1]\n",
    "\n",
    "avgPercCover"
   ]
  },
  {
   "cell_type": "code",
   "execution_count": 72,
   "id": "c92f7d8f",
   "metadata": {},
   "outputs": [
    {
     "data": {
      "text/plain": [
       "204.15541120536267"
      ]
     },
     "execution_count": 72,
     "metadata": {},
     "output_type": "execute_result"
    }
   ],
   "source": [
    "sumAvgPercCover"
   ]
  },
  {
   "cell_type": "code",
   "execution_count": null,
   "id": "d28c0094",
   "metadata": {},
   "outputs": [],
   "source": []
  }
 ],
 "metadata": {
  "kernelspec": {
   "display_name": "Python 3 (ipykernel)",
   "language": "python",
   "name": "python3"
  },
  "language_info": {
   "codemirror_mode": {
    "name": "ipython",
    "version": 3
   },
   "file_extension": ".py",
   "mimetype": "text/x-python",
   "name": "python",
   "nbconvert_exporter": "python",
   "pygments_lexer": "ipython3",
   "version": "3.9.12"
  }
 },
 "nbformat": 4,
 "nbformat_minor": 5
}

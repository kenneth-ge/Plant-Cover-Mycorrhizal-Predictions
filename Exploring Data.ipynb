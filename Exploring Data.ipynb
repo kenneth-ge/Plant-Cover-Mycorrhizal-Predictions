{
 "cells": [
  {
   "cell_type": "markdown",
   "id": "164765f7",
   "metadata": {},
   "source": [
    "## imports"
   ]
  },
  {
   "cell_type": "code",
   "execution_count": 2,
   "id": "f11e18a5",
   "metadata": {},
   "outputs": [],
   "source": [
    "import os\n",
    "import requests\n",
    "import json\n",
    "import itertools"
   ]
  },
  {
   "cell_type": "code",
   "execution_count": 3,
   "id": "194bc174",
   "metadata": {},
   "outputs": [],
   "source": [
    "#Every request begins with the server's URL\n",
    "SERVER = 'http://data.neonscience.org/api/v0/'"
   ]
  },
  {
   "cell_type": "code",
   "execution_count": 4,
   "id": "44ecacb6",
   "metadata": {},
   "outputs": [],
   "source": [
    "site_codes = [\n",
    "    'UNDE',\n",
    "    'WOOD',\n",
    "    'CPER',\n",
    "    'NIWO',\n",
    "    'KONZ',\n",
    "    'HARV',\n",
    "    'SCBI',\n",
    "    'OSBS',\n",
    "    'TALL',\n",
    "    'CLBJ',\n",
    "    'SRER',\n",
    "    'ONAQ',\n",
    "    'SJER',\n",
    "    'WREF',\n",
    "    'YELL',\n",
    "    'GUAN',\n",
    "    'BONA',\n",
    "    'TOOL',\n",
    "    'PUUM',\n",
    "    'ORNL'\n",
    "]"
   ]
  },
  {
   "cell_type": "code",
   "execution_count": 6,
   "id": "5e5fbd2c",
   "metadata": {},
   "outputs": [
    {
     "name": "stdout",
     "output_type": "stream",
     "text": [
      "http://data.neonscience.org/api/v0/sites/UNDE\n"
     ]
    }
   ],
   "source": [
    "#Define the url, using the sites/ endpoint\n",
    "url = SERVER+'sites/'+site_codes[0]\n",
    "print(url)"
   ]
  },
  {
   "cell_type": "code",
   "execution_count": 7,
   "id": "59020e6b",
   "metadata": {},
   "outputs": [],
   "source": [
    "#Request the url\n",
    "site_request = requests.get(url)\n",
    "\n",
    "#Convert the request to Python JSON object\n",
    "site_json = site_request.json()"
   ]
  },
  {
   "cell_type": "code",
   "execution_count": 8,
   "id": "2023d20c",
   "metadata": {},
   "outputs": [
    {
     "data": {
      "text/plain": [
       "dict_keys(['data'])"
      ]
     },
     "execution_count": 8,
     "metadata": {},
     "output_type": "execute_result"
    }
   ],
   "source": [
    "#Use the 'keys' method to view the component of the uppermost json dictionary\n",
    "site_json.keys()"
   ]
  },
  {
   "cell_type": "code",
   "execution_count": 9,
   "id": "1f3341a2",
   "metadata": {},
   "outputs": [
    {
     "data": {
      "text/plain": [
       "dict_keys(['siteCode', 'siteName', 'siteDescription', 'siteType', 'siteLatitude', 'siteLongitude', 'stateCode', 'stateName', 'domainCode', 'domainName', 'deimsId', 'releases', 'dataProducts'])"
      ]
     },
     "execution_count": 9,
     "metadata": {},
     "output_type": "execute_result"
    }
   ],
   "source": [
    "#Access the 'data' component, and use the 'keys' method to view to componenets of the json data dictionary\n",
    "site_json['data'].keys()"
   ]
  },
  {
   "cell_type": "code",
   "execution_count": 10,
   "id": "f9620919",
   "metadata": {},
   "outputs": [
    {
     "data": {
      "text/plain": [
       "{'siteCode': 'UNDE',\n",
       " 'siteName': 'University of Notre Dame Environmental Research Center NEON',\n",
       " 'siteDescription': 'University of Notre Dame Environmental Research Center NEON',\n",
       " 'siteType': 'CORE',\n",
       " 'siteLatitude': 46.23391,\n",
       " 'siteLongitude': -89.537254,\n",
       " 'stateCode': 'MI',\n",
       " 'stateName': 'Michigan',\n",
       " 'domainCode': 'D05',\n",
       " 'domainName': 'Great Lakes',\n",
       " 'deimsId': 'https://deims.org/2f027d25-93c1-4af7-bfd1-36f2bbd24460',\n",
       " 'releases': [{'release': 'RELEASE-2021',\n",
       "   'generationDate': '2021-01-23T02:30:02Z',\n",
       "   'url': 'https://data.neonscience.org/api/v0/releases/RELEASE-2021'},\n",
       "  {'release': 'RELEASE-2022',\n",
       "   'generationDate': '2022-01-20T17:39:46Z',\n",
       "   'url': 'https://data.neonscience.org/api/v0/releases/RELEASE-2022'},\n",
       "  {'release': 'RELEASE-2023',\n",
       "   'generationDate': '2023-01-27T12:07:53Z',\n",
       "   'url': 'https://data.neonscience.org/api/v0/releases/RELEASE-2023'}]}"
      ]
     },
     "execution_count": 10,
     "metadata": {},
     "output_type": "execute_result"
    }
   ],
   "source": [
    "dict(itertools.islice(site_json['data'].items(),12))"
   ]
  },
  {
   "cell_type": "code",
   "execution_count": 11,
   "id": "06572f3e",
   "metadata": {},
   "outputs": [
    {
     "data": {
      "text/plain": [
       "{'dataProductCode': 'DP3.30026.001',\n",
       " 'dataProductTitle': 'Vegetation indices - spectrometer - mosaic',\n",
       " 'availableMonths': ['2016-09', '2017-09', '2019-06', '2020-08'],\n",
       " 'availableDataUrls': ['https://data.neonscience.org/api/v0/data/DP3.30026.001/UNDE/2016-09',\n",
       "  'https://data.neonscience.org/api/v0/data/DP3.30026.001/UNDE/2017-09',\n",
       "  'https://data.neonscience.org/api/v0/data/DP3.30026.001/UNDE/2019-06',\n",
       "  'https://data.neonscience.org/api/v0/data/DP3.30026.001/UNDE/2020-08'],\n",
       " 'availableReleases': [{'release': 'RELEASE-2023',\n",
       "   'availableMonths': ['2016-09', '2017-09', '2019-06', '2020-08']}]}"
      ]
     },
     "execution_count": 11,
     "metadata": {},
     "output_type": "execute_result"
    }
   ],
   "source": [
    "#View a data product dictionary\n",
    "site_json['data']['dataProducts'][-3]"
   ]
  },
  {
   "cell_type": "code",
   "execution_count": 12,
   "id": "7a810ad3",
   "metadata": {},
   "outputs": [
    {
     "name": "stdout",
     "output_type": "stream",
     "text": [
      "DP1.00001.001 2D wind speed and direction\n",
      "DP1.00002.001 Single aspirated air temperature\n",
      "DP1.00003.001 Triple aspirated air temperature\n",
      "DP1.00004.001 Barometric pressure\n",
      "DP1.00005.001 IR biological temperature\n",
      "DP1.00006.001 Precipitation\n",
      "DP1.00013.001 Wet deposition chemical analysis\n",
      "DP1.00014.001 Shortwave radiation (direct and diffuse pyranometer)\n",
      "DP1.00022.001 Shortwave radiation (primary pyranometer)\n",
      "DP1.00023.001 Shortwave and longwave radiation (net radiometer)\n",
      "DP1.00024.001 Photosynthetically active radiation (PAR)\n",
      "DP1.00033.001 Phenology images\n",
      "DP1.00038.001 Stable isotopes in precipitation\n",
      "DP1.00040.001 Soil heat flux plate\n",
      "DP1.00041.001 Soil temperature\n",
      "DP1.00042.001 Snow depth and understory phenology images\n",
      "DP1.00043.001 Spectral sun photometer - calibrated sky radiances\n",
      "DP1.00066.001 Photosynthetically active radiation (quantum line)\n",
      "DP1.00094.001 Soil water content and water salinity\n",
      "DP1.00095.001 Soil CO2 concentration\n",
      "DP1.00096.001 Soil physical and chemical properties, Megapit\n",
      "DP1.00098.001 Relative humidity\n",
      "DP1.10003.001 Breeding landbird point counts\n",
      "DP1.10010.001 Coarse downed wood log survey\n",
      "DP1.10014.001 Coarse downed wood bulk density sampling\n",
      "DP1.10017.001 Digital hemispheric photos of plot vegetation\n",
      "DP1.10020.001 Ground beetle sequences DNA barcode\n",
      "DP1.10022.001 Ground beetles sampled from pitfall traps\n",
      "DP1.10023.001 Herbaceous clip harvest\n",
      "DP1.10026.001 Plant foliar traits\n",
      "DP1.10033.001 Litterfall and fine woody debris production and chemistry\n",
      "DP1.10038.001 Mosquito sequences DNA barcode\n",
      "DP1.10041.001 Mosquito pathogen status\n",
      "DP1.10043.001 Mosquitoes sampled from CO2 traps\n",
      "DP1.10047.001 Soil physical and chemical properties, distributed initial characterization\n",
      "DP1.10055.001 Plant phenology observations\n",
      "DP1.10058.001 Plant presence and percent cover\n",
      "DP1.10064.001 Rodent pathogen status, hantavirus\n",
      "DP1.10064.002 Rodent pathogen status, tick-borne\n",
      "DP1.10066.001 Root biomass and chemistry, Megapit\n",
      "DP1.10067.001 Root biomass and chemistry, periodic\n",
      "DP1.10072.001 Small mammal box trapping\n",
      "DP1.10076.001 Small mammal sequences DNA barcode\n",
      "DP1.10081.001 Soil microbe community composition\n",
      "DP1.10086.001 Soil physical and chemical properties, periodic\n",
      "DP1.10092.001 Tick pathogen status\n",
      "DP1.10093.001 Ticks sampled using drag cloths\n",
      "DP1.10098.001 Vegetation structure\n",
      "DP1.10104.001 Soil microbe biomass\n",
      "DP1.10107.001 Soil microbe metagenome sequences\n",
      "DP1.10108.001 Soil microbe marker gene sequences\n",
      "DP1.10109.001 Soil microbe group abundances\n",
      "DP1.10111.001 Site management and event reporting\n",
      "DP1.30001.001 LiDAR slant range waveform\n",
      "DP1.30003.001 Discrete return LiDAR point cloud\n",
      "DP1.30006.001 Spectrometer orthorectified surface directional reflectance - flightline\n",
      "DP1.30008.001 Spectrometer orthrorectified at-sensor radiance - flightline\n",
      "DP1.30010.001 High-resolution orthorectified camera imagery\n",
      "DP1.30012.001 Field spectral data\n",
      "DP2.30011.001 Albedo - spectrometer - flightline\n",
      "DP2.30012.001 LAI - spectrometer - flightline\n",
      "DP2.30014.001 fPAR - spectrometer - flightline\n",
      "DP2.30019.001 Canopy water indices - flightline\n",
      "DP2.30026.001 Vegetation indices - spectrometer - flightline\n",
      "DP3.30006.001 Spectrometer orthorectified surface directional reflectance - mosaic\n",
      "DP3.30010.001 High-resolution orthorectified camera imagery mosaic\n",
      "DP3.30011.001 Albedo - spectrometer - mosaic\n",
      "DP3.30012.001 LAI - spectrometer - mosaic\n",
      "DP3.30014.001 fPAR - spectrometer - mosaic\n",
      "DP3.30015.001 Ecosystem structure\n",
      "DP3.30019.001 Canopy water indices - mosaic\n",
      "DP3.30024.001 Elevation - LiDAR\n",
      "DP3.30025.001 Slope and Aspect - LiDAR\n",
      "DP3.30026.001 Vegetation indices - spectrometer - mosaic\n",
      "DP4.00001.001 Summary weather statistics\n",
      "DP4.00200.001 Bundled data products - eddy covariance\n"
     ]
    }
   ],
   "source": [
    "#View product code and name for every available data product\n",
    "for product in site_json['data']['dataProducts']:\n",
    "    print(product['dataProductCode'],product['dataProductTitle'])"
   ]
  },
  {
   "cell_type": "code",
   "execution_count": 13,
   "id": "ca2cdf07",
   "metadata": {},
   "outputs": [],
   "source": [
    "PRODUCTCODE = 'DP1.10058.001'"
   ]
  },
  {
   "cell_type": "code",
   "execution_count": 14,
   "id": "d9dee779",
   "metadata": {},
   "outputs": [
    {
     "name": "stdout",
     "output_type": "stream",
     "text": [
      "Available Months:  ['2014-06', '2014-07', '2015-06', '2015-07', '2016-06', '2016-07', '2016-08', '2017-05', '2017-06', '2017-07', '2018-06', '2018-07', '2019-06', '2019-07', '2020-06', '2020-07', '2020-10', '2021-06', '2021-07', '2022-06', '2022-07', '2022-08']\n",
      "URLs for each Month:\n",
      "https://data.neonscience.org/api/v0/data/DP1.10058.001/UNDE/2014-06\n",
      "https://data.neonscience.org/api/v0/data/DP1.10058.001/UNDE/2014-07\n",
      "https://data.neonscience.org/api/v0/data/DP1.10058.001/UNDE/2015-06\n",
      "https://data.neonscience.org/api/v0/data/DP1.10058.001/UNDE/2015-07\n",
      "https://data.neonscience.org/api/v0/data/DP1.10058.001/UNDE/2016-06\n",
      "https://data.neonscience.org/api/v0/data/DP1.10058.001/UNDE/2016-07\n",
      "https://data.neonscience.org/api/v0/data/DP1.10058.001/UNDE/2016-08\n",
      "https://data.neonscience.org/api/v0/data/DP1.10058.001/UNDE/2017-05\n",
      "https://data.neonscience.org/api/v0/data/DP1.10058.001/UNDE/2017-06\n",
      "https://data.neonscience.org/api/v0/data/DP1.10058.001/UNDE/2017-07\n",
      "https://data.neonscience.org/api/v0/data/DP1.10058.001/UNDE/2018-06\n",
      "https://data.neonscience.org/api/v0/data/DP1.10058.001/UNDE/2018-07\n",
      "https://data.neonscience.org/api/v0/data/DP1.10058.001/UNDE/2019-06\n",
      "https://data.neonscience.org/api/v0/data/DP1.10058.001/UNDE/2019-07\n",
      "https://data.neonscience.org/api/v0/data/DP1.10058.001/UNDE/2020-06\n",
      "https://data.neonscience.org/api/v0/data/DP1.10058.001/UNDE/2020-07\n",
      "https://data.neonscience.org/api/v0/data/DP1.10058.001/UNDE/2020-10\n",
      "https://data.neonscience.org/api/v0/data/DP1.10058.001/UNDE/2021-06\n",
      "https://data.neonscience.org/api/v0/data/DP1.10058.001/UNDE/2021-07\n",
      "https://data.neonscience.org/api/v0/data/DP1.10058.001/UNDE/2022-06\n",
      "https://data.neonscience.org/api/v0/data/DP1.10058.001/UNDE/2022-07\n",
      "https://data.neonscience.org/api/v0/data/DP1.10058.001/UNDE/2022-08\n"
     ]
    }
   ],
   "source": [
    "#Get available months of Ecosystem structure data products for TEAK site\n",
    "#Loop through the 'dataProducts' list items (each one is a dictionary) at the site\n",
    "for product in site_json['data']['dataProducts']: \n",
    "    #if a list item's 'dataProductCode' dict element equals the product code string\n",
    "    if(product['dataProductCode'] == PRODUCTCODE): \n",
    "        #print the available months\n",
    "        print('Available Months: ',product['availableMonths'])\n",
    "        print('URLs for each Month:')\n",
    "        #print the available URLs\n",
    "        for url in product['availableDataUrls']:\n",
    "            print(url)"
   ]
  },
  {
   "cell_type": "code",
   "execution_count": 16,
   "id": "5b15ea4d",
   "metadata": {},
   "outputs": [],
   "source": [
    "#Make Request\n",
    "data_request = requests.get(SERVER+'data/'+PRODUCTCODE+'/'+site_codes[0]+'/'+'2018-06')\n",
    "data_json = data_request.json()"
   ]
  },
  {
   "cell_type": "code",
   "execution_count": 17,
   "id": "43ca1602",
   "metadata": {},
   "outputs": [
    {
     "name": "stdout",
     "output_type": "stream",
     "text": [
      "dict_keys(['productCode', 'siteCode', 'month', 'release', 'packages', 'files'])\n"
     ]
    }
   ],
   "source": [
    "#Print dict key for 'data' element of data JSON\n",
    "print(data_json['data'].keys())"
   ]
  },
  {
   "cell_type": "code",
   "execution_count": 21,
   "id": "7cf27cc6",
   "metadata": {},
   "outputs": [
    {
     "name": "stdout",
     "output_type": "stream",
     "text": [
      "--------------------\n",
      "name :\t NEON.D05.UNDE.DP1.10058.001.div_10m2Data100m2Data.2018-06.basic.20230112T002127Z.csv\n",
      "size :\t 186424\n",
      "md5 :\t 1f76312158d377f8a0654edf038b0f33\n",
      "crc32 :\t None\n",
      "crc32c :\t None\n",
      "url :\t https://storage.googleapis.com/neon-publication/NEON.DOM.SITE.DP1.10058.001/UNDE/20180601T000000--20180701T000000/basic/NEON.D05.UNDE.DP1.10058.001.div_10m2Data100m2Data.2018-06.basic.20230112T002127Z.csv\n",
      "--------------------\n",
      "name :\t NEON.D05.UNDE.DP1.10058.001.variables.20230112T002127Z.csv\n",
      "size :\t 24071\n",
      "md5 :\t aa8753ef5d22f871758d18dd17a2851f\n",
      "crc32 :\t None\n",
      "crc32c :\t None\n",
      "url :\t https://storage.googleapis.com/neon-publication/NEON.DOM.SITE.DP1.10058.001/UNDE/20180601T000000--20180701T000000/basic/NEON.D05.UNDE.DP1.10058.001.variables.20230112T002127Z.csv\n",
      "--------------------\n",
      "name :\t NEON.D05.UNDE.DP1.10058.001.div_1m2Data.2018-06.basic.20230112T002127Z.csv\n",
      "size :\t 413032\n",
      "md5 :\t 88f1d11e05e9a5af0ebd58ac579c5ebd\n",
      "crc32 :\t None\n",
      "crc32c :\t None\n",
      "url :\t https://storage.googleapis.com/neon-publication/NEON.DOM.SITE.DP1.10058.001/UNDE/20180601T000000--20180701T000000/basic/NEON.D05.UNDE.DP1.10058.001.div_1m2Data.2018-06.basic.20230112T002127Z.csv\n",
      "--------------------\n",
      "name :\t NEON.D05.UNDE.DP1.10058.001.EML.20180611-20180614.20230127T120753Z.xml\n",
      "size :\t 262566\n",
      "md5 :\t 33da7c1f430ce7b07df9de7ea7242549\n",
      "crc32 :\t None\n",
      "crc32c :\t None\n",
      "url :\t https://storage.googleapis.com/neon-publication/release/tag/RELEASE-2023/NEON.DOM.SITE.DP1.10058.001/UNDE/20180601T000000--20180701T000000/basic/NEON.D05.UNDE.DP1.10058.001.EML.20180611-20180614.20230127T120753Z.xml\n",
      "--------------------\n",
      "name :\t NEON.D05.UNDE.DP0.10058.001.validation.20230112T002127Z.csv\n",
      "size :\t 26966\n",
      "md5 :\t 9c2d7ab7fc430dd5c8ae4baf366876fc\n",
      "crc32 :\t None\n",
      "crc32c :\t None\n",
      "url :\t https://storage.googleapis.com/neon-publication/NEON.DOM.SITE.DP1.10058.001/UNDE/20180601T000000--20180701T000000/basic/NEON.D05.UNDE.DP0.10058.001.validation.20230112T002127Z.csv\n",
      "--------------------\n",
      "name :\t NEON.D05.UNDE.DP1.10058.001.readme.20230127T120753Z.txt\n",
      "size :\t 15330\n",
      "md5 :\t 2a1b8c723d79b8c1a4b88ba908a1fa3c\n",
      "crc32 :\t None\n",
      "crc32c :\t None\n",
      "url :\t https://storage.googleapis.com/neon-publication/release/tag/RELEASE-2023/NEON.DOM.SITE.DP1.10058.001/UNDE/20180601T000000--20180701T000000/basic/NEON.D05.UNDE.DP1.10058.001.readme.20230127T120753Z.txt\n",
      "--------------------\n",
      "name :\t NEON.D05.UNDE.DP0.10058.001.categoricalCodes.20230112T002127Z.csv\n",
      "size :\t 12694\n",
      "md5 :\t 1c9dd1cd2e4459b430eed80c182d58b3\n",
      "crc32 :\t None\n",
      "crc32c :\t None\n",
      "url :\t https://storage.googleapis.com/neon-publication/NEON.DOM.SITE.DP1.10058.001/UNDE/20180601T000000--20180701T000000/basic/NEON.D05.UNDE.DP0.10058.001.categoricalCodes.20230112T002127Z.csv\n",
      "--------------------\n",
      "name :\t NEON.D05.UNDE.DP1.10058.001.div_10m2Data100m2Data.2018-06.expanded.20230112T002127Z.csv\n",
      "size :\t 186424\n",
      "md5 :\t 1f76312158d377f8a0654edf038b0f33\n",
      "crc32 :\t None\n",
      "crc32c :\t None\n",
      "url :\t https://storage.googleapis.com/neon-publication/NEON.DOM.SITE.DP1.10058.001/UNDE/20180601T000000--20180701T000000/expanded/NEON.D05.UNDE.DP1.10058.001.div_10m2Data100m2Data.2018-06.expanded.20230112T002127Z.csv\n",
      "--------------------\n",
      "name :\t NEON.D05.UNDE.DP1.10058.001.variables.20230112T002127Z.csv\n",
      "size :\t 24071\n",
      "md5 :\t aa8753ef5d22f871758d18dd17a2851f\n",
      "crc32 :\t None\n",
      "crc32c :\t None\n",
      "url :\t https://storage.googleapis.com/neon-publication/NEON.DOM.SITE.DP1.10058.001/UNDE/20180601T000000--20180701T000000/expanded/NEON.D05.UNDE.DP1.10058.001.variables.20230112T002127Z.csv\n",
      "--------------------\n",
      "name :\t NEON.D05.UNDE.DP1.10058.001.div_voucher.expanded.20230112T002127Z.csv\n",
      "size :\t 41322\n",
      "md5 :\t 4371b08d9919d74fdacda2985e0afdac\n",
      "crc32 :\t None\n",
      "crc32c :\t None\n",
      "url :\t https://storage.googleapis.com/neon-publication/NEON.DOM.SITE.DP1.10058.001/UNDE/20180601T000000--20180701T000000/expanded/NEON.D05.UNDE.DP1.10058.001.div_voucher.expanded.20230112T002127Z.csv\n",
      "--------------------\n",
      "name :\t NEON.D05.UNDE.DP1.10058.001.readme.20230127T120753Z.txt\n",
      "size :\t 15647\n",
      "md5 :\t 31b7f8723f0376eea9a472b25c7e9583\n",
      "crc32 :\t None\n",
      "crc32c :\t None\n",
      "url :\t https://storage.googleapis.com/neon-publication/release/tag/RELEASE-2023/NEON.DOM.SITE.DP1.10058.001/UNDE/20180601T000000--20180701T000000/expanded/NEON.D05.UNDE.DP1.10058.001.readme.20230127T120753Z.txt\n",
      "--------------------\n",
      "name :\t NEON.D05.UNDE.DP1.10058.001.div_geneticarchive.expanded.20230112T002127Z.csv\n",
      "size :\t 11700\n",
      "md5 :\t 55a186989d726970c9e8575058af0844\n",
      "crc32 :\t None\n",
      "crc32c :\t None\n",
      "url :\t https://storage.googleapis.com/neon-publication/NEON.DOM.SITE.DP1.10058.001/UNDE/20180601T000000--20180701T000000/expanded/NEON.D05.UNDE.DP1.10058.001.div_geneticarchive.expanded.20230112T002127Z.csv\n",
      "--------------------\n",
      "name :\t NEON.D05.UNDE.DP1.10058.001.div_1m2Data.2018-06.expanded.20230112T002127Z.csv\n",
      "size :\t 413032\n",
      "md5 :\t 88f1d11e05e9a5af0ebd58ac579c5ebd\n",
      "crc32 :\t None\n",
      "crc32c :\t None\n",
      "url :\t https://storage.googleapis.com/neon-publication/NEON.DOM.SITE.DP1.10058.001/UNDE/20180601T000000--20180701T000000/expanded/NEON.D05.UNDE.DP1.10058.001.div_1m2Data.2018-06.expanded.20230112T002127Z.csv\n",
      "--------------------\n",
      "name :\t NEON.D05.UNDE.DP0.10058.001.validation.20230112T002127Z.csv\n",
      "size :\t 26966\n",
      "md5 :\t 9c2d7ab7fc430dd5c8ae4baf366876fc\n",
      "crc32 :\t None\n",
      "crc32c :\t None\n",
      "url :\t https://storage.googleapis.com/neon-publication/NEON.DOM.SITE.DP1.10058.001/UNDE/20180601T000000--20180701T000000/expanded/NEON.D05.UNDE.DP0.10058.001.validation.20230112T002127Z.csv\n",
      "--------------------\n",
      "name :\t NEON.D05.UNDE.DP1.10058.001.EML.20180611-20180614.20230127T120753Z.xml\n",
      "size :\t 388983\n",
      "md5 :\t b26d720d05d5a9abdd45d6aad500b27b\n",
      "crc32 :\t None\n",
      "crc32c :\t None\n",
      "url :\t https://storage.googleapis.com/neon-publication/release/tag/RELEASE-2023/NEON.DOM.SITE.DP1.10058.001/UNDE/20180601T000000--20180701T000000/expanded/NEON.D05.UNDE.DP1.10058.001.EML.20180611-20180614.20230127T120753Z.xml\n",
      "--------------------\n",
      "name :\t NEON.D05.UNDE.DP1.10058.001.div_morphospecies.expanded.20230112T002127Z.csv\n",
      "size :\t 107489\n",
      "md5 :\t 9c638e10968d8e4129289636ca872f8b\n",
      "crc32 :\t None\n",
      "crc32c :\t None\n",
      "url :\t https://storage.googleapis.com/neon-publication/NEON.DOM.SITE.DP1.10058.001/UNDE/20180601T000000--20180701T000000/expanded/NEON.D05.UNDE.DP1.10058.001.div_morphospecies.expanded.20230112T002127Z.csv\n",
      "--------------------\n",
      "name :\t NEON.D05.UNDE.DP0.10058.001.categoricalCodes.20230112T002127Z.csv\n",
      "size :\t 12694\n",
      "md5 :\t 1c9dd1cd2e4459b430eed80c182d58b3\n",
      "crc32 :\t None\n",
      "crc32c :\t None\n",
      "url :\t https://storage.googleapis.com/neon-publication/NEON.DOM.SITE.DP1.10058.001/UNDE/20180601T000000--20180701T000000/expanded/NEON.D05.UNDE.DP0.10058.001.categoricalCodes.20230112T002127Z.csv\n"
     ]
    }
   ],
   "source": [
    "#View keys and values in first file dict\n",
    "for file in data_json['data']['files']:\n",
    "    print('--------------------')\n",
    "    for key in file.keys(): #Loop through keys of the data file dict\n",
    "        print(key,':\\t', file[key])"
   ]
  },
  {
   "cell_type": "code",
   "execution_count": null,
   "id": "5a2cc713",
   "metadata": {},
   "outputs": [],
   "source": [
    "import urllib.request\n",
    "urllib.request.urlretrieve(\"http://www.example.com/songs/mp3.mp3\", \"mp3.mp3\")"
   ]
  }
 ],
 "metadata": {
  "kernelspec": {
   "display_name": "Python 3 (ipykernel)",
   "language": "python",
   "name": "python3"
  },
  "language_info": {
   "codemirror_mode": {
    "name": "ipython",
    "version": 3
   },
   "file_extension": ".py",
   "mimetype": "text/x-python",
   "name": "python",
   "nbconvert_exporter": "python",
   "pygments_lexer": "ipython3",
   "version": "3.9.12"
  }
 },
 "nbformat": 4,
 "nbformat_minor": 5
}
